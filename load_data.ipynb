{
 "cells": [
  {
   "cell_type": "markdown",
   "metadata": {},
   "source": [
    "## Web Scraping for fetching the Fund Information:\n",
    "\n",
    "**Running the below python code for scraping the data from www.morningstar.com takes very long time \n",
    "(~ 2 hour 30 mins) for approximately 1277 funds of 10 fund families. Hence the scraped data is exported in csv files \n",
    "and further data analysis in another python file is performed by reading the csv files for faster execution.**"
   ]
  },
  {
   "cell_type": "markdown",
   "metadata": {},
   "source": [
    "1. Import Python Libraries"
   ]
  },
  {
   "cell_type": "code",
   "execution_count": 14,
   "metadata": {},
   "outputs": [],
   "source": [
    "# Import Section\n",
    "# special IPython command to prepare the notebook for matplotlib\n",
    "%matplotlib inline \n",
    "import requests\n",
    "import urllib.request\n",
    "import numpy as np\n",
    "import pandas as pd                               # pandas\n",
    "import matplotlib.pyplot as plt                   # module for plotting \n",
    "import datetime as dt                             # module for manipulating dates and times\n",
    "from collections import OrderedDict\n",
    "\n",
    "# Import scipy library\n",
    "import scipy as sp\n",
    "\n",
    "import seaborn as sns\n",
    "\n",
    "# Import module matlabplot for visaulizations\n",
    "from matplotlib import pyplot as plt\n",
    "from matplotlib import rcParams\n",
    "import math\n",
    "\n",
    "# Import Beautiful Soup library\n",
    "import bs4"
   ]
  },
  {
   "cell_type": "markdown",
   "metadata": {},
   "source": [
    "2. List of Top 10 Fund Families based on largest Asset Under Management (AUM):\n",
    "This List includes Fund Families like Vanguard, American Funds, PIMCO, Fidelity Investments, Franklin Templeton Investments, BlacRock, T. Rowe Price, J.P.Morgan Funds, Oppenheimer Funds and Columbia. We will be fetching the data for the funds from the Morningstar website. Morningstar is one of the biggest source of information for almost all of the financial securities information. We will be using Web Scraping to fetch the Information for list of all fund families and it's funds. The fund's returns information and other important parameters for analysis."
   ]
  },
  {
   "cell_type": "code",
   "execution_count": 8,
   "metadata": {},
   "outputs": [],
   "source": [
    "# Defining a DataFrame for Fund Family which contains Fund Family and the Fund Family URL.\n",
    "FFamily = pd.DataFrame(columns=['Fund_Family','MorningstarURL'])\n",
    "\n",
    "# List of 10 largest Mutual Fund Families\n",
    "FFamily.loc[0] = ['Vanguard','http://quicktake.morningstar.com/fundfamily/vanguard/0C00001YUF/fund-list.aspx']\n",
    "FFamily.loc[1] = ['American Funds','http://quicktake.morningstar.com/fundfamily/american-funds/0C00001YPH/fund-list.aspx']\n",
    "FFamily.loc[2] = ['PIMCO Funds','http://quicktake.morningstar.com/fundfamily/pimco/0C00004ALK/fund-list.aspx']\n",
    "FFamily.loc[3] = ['T. Rowe Price','http://quicktake.morningstar.com/fundfamily/t-rowe-price/0C00001YZ8/fund-list.aspx']\n",
    "FFamily.loc[4] = ['JP Morgan','http://quicktake.morningstar.com/fundfamily/jpmorgan/0C00001YRR/fund-list.aspx']\n",
    "FFamily.loc[5] = ['Fidelity Investments','http://quicktake.morningstar.com/fundfamily/fidelity-investments/0C00001YR0/fund-list.aspx']\n",
    "FFamily.loc[6] = ['Franklin Templeton Investments','http://quicktake.morningstar.com/fundfamily/franklin-templeton-investments/0C00004AKN/fund-list.aspx']\n",
    "FFamily.loc[7] = ['BlackRock','http://quicktake.morningstar.com/fundfamily/blackrock/0C000034YC/fund-list.aspx']\n",
    "FFamily.loc[8] = ['Columbia','http://quicktake.morningstar.com/fundfamily/columbia/0C00001YQG/fund-list.aspx']\n",
    "FFamily.loc[9] = ['Oppenheimer Funds','http://quicktake.morningstar.com/fundfamily/oppenheimerfunds/0C00001YZF/fund-list.aspx']\n"
   ]
  },
  {
   "cell_type": "code",
   "execution_count": 9,
   "metadata": {},
   "outputs": [
    {
     "data": {
      "text/html": [
       "<div>\n",
       "<style scoped>\n",
       "    .dataframe tbody tr th:only-of-type {\n",
       "        vertical-align: middle;\n",
       "    }\n",
       "\n",
       "    .dataframe tbody tr th {\n",
       "        vertical-align: top;\n",
       "    }\n",
       "\n",
       "    .dataframe thead th {\n",
       "        text-align: right;\n",
       "    }\n",
       "</style>\n",
       "<table border=\"1\" class=\"dataframe\">\n",
       "  <thead>\n",
       "    <tr style=\"text-align: right;\">\n",
       "      <th></th>\n",
       "      <th>Fund_Family</th>\n",
       "      <th>MorningstarURL</th>\n",
       "    </tr>\n",
       "  </thead>\n",
       "  <tbody>\n",
       "    <tr>\n",
       "      <th>0</th>\n",
       "      <td>Vanguard</td>\n",
       "      <td>http://quicktake.morningstar.com/fundfamily/va...</td>\n",
       "    </tr>\n",
       "    <tr>\n",
       "      <th>1</th>\n",
       "      <td>American Funds</td>\n",
       "      <td>http://quicktake.morningstar.com/fundfamily/am...</td>\n",
       "    </tr>\n",
       "    <tr>\n",
       "      <th>2</th>\n",
       "      <td>PIMCO Funds</td>\n",
       "      <td>http://quicktake.morningstar.com/fundfamily/pi...</td>\n",
       "    </tr>\n",
       "    <tr>\n",
       "      <th>3</th>\n",
       "      <td>T. Rowe Price</td>\n",
       "      <td>http://quicktake.morningstar.com/fundfamily/t-...</td>\n",
       "    </tr>\n",
       "    <tr>\n",
       "      <th>4</th>\n",
       "      <td>JP Morgan</td>\n",
       "      <td>http://quicktake.morningstar.com/fundfamily/jp...</td>\n",
       "    </tr>\n",
       "    <tr>\n",
       "      <th>5</th>\n",
       "      <td>Fidelity Investments</td>\n",
       "      <td>http://quicktake.morningstar.com/fundfamily/fi...</td>\n",
       "    </tr>\n",
       "    <tr>\n",
       "      <th>6</th>\n",
       "      <td>Franklin Templeton Investments</td>\n",
       "      <td>http://quicktake.morningstar.com/fundfamily/fr...</td>\n",
       "    </tr>\n",
       "    <tr>\n",
       "      <th>7</th>\n",
       "      <td>BlackRock</td>\n",
       "      <td>http://quicktake.morningstar.com/fundfamily/bl...</td>\n",
       "    </tr>\n",
       "    <tr>\n",
       "      <th>8</th>\n",
       "      <td>Columbia</td>\n",
       "      <td>http://quicktake.morningstar.com/fundfamily/co...</td>\n",
       "    </tr>\n",
       "    <tr>\n",
       "      <th>9</th>\n",
       "      <td>Oppenheimer Funds</td>\n",
       "      <td>http://quicktake.morningstar.com/fundfamily/op...</td>\n",
       "    </tr>\n",
       "  </tbody>\n",
       "</table>\n",
       "</div>"
      ],
      "text/plain": [
       "                      Fund_Family  \\\n",
       "0                        Vanguard   \n",
       "1                  American Funds   \n",
       "2                     PIMCO Funds   \n",
       "3                   T. Rowe Price   \n",
       "4                       JP Morgan   \n",
       "5            Fidelity Investments   \n",
       "6  Franklin Templeton Investments   \n",
       "7                       BlackRock   \n",
       "8                        Columbia   \n",
       "9               Oppenheimer Funds   \n",
       "\n",
       "                                      MorningstarURL  \n",
       "0  http://quicktake.morningstar.com/fundfamily/va...  \n",
       "1  http://quicktake.morningstar.com/fundfamily/am...  \n",
       "2  http://quicktake.morningstar.com/fundfamily/pi...  \n",
       "3  http://quicktake.morningstar.com/fundfamily/t-...  \n",
       "4  http://quicktake.morningstar.com/fundfamily/jp...  \n",
       "5  http://quicktake.morningstar.com/fundfamily/fi...  \n",
       "6  http://quicktake.morningstar.com/fundfamily/fr...  \n",
       "7  http://quicktake.morningstar.com/fundfamily/bl...  \n",
       "8  http://quicktake.morningstar.com/fundfamily/co...  \n",
       "9  http://quicktake.morningstar.com/fundfamily/op...  "
      ]
     },
     "execution_count": 9,
     "metadata": {},
     "output_type": "execute_result"
    }
   ],
   "source": [
    "FFamily"
   ]
  },
  {
   "cell_type": "markdown",
   "metadata": {},
   "source": [
    "3. Fund Family with Ticker:\n",
    "The below section contains code to fetch the list of Funds within each family. The web scraping from the Morningstar URL is done using Beautiful Soup. Ticker is a Unique idenitifer for a particular security similar to CUSIP and is a 5 character word(basically a combination of initials for the fund's name). However ticker makes more sense as it is more related to the Fund's family and name.\n",
    "\n",
    "E.g. Fidelity funds have ticker starting with F whereas Vanguard funds have ticker starting with V."
   ]
  },
  {
   "cell_type": "code",
   "execution_count": 16,
   "metadata": {},
   "outputs": [
    {
     "ename": "AttributeError",
     "evalue": "'NoneType' object has no attribute 'findAll'",
     "output_type": "error",
     "traceback": [
      "\u001b[1;31m---------------------------------------------------------------------------\u001b[0m",
      "\u001b[1;31mAttributeError\u001b[0m                            Traceback (most recent call last)",
      "Cell \u001b[1;32mIn[16], line 23\u001b[0m\n\u001b[0;32m     20\u001b[0m table \u001b[39m=\u001b[39m soup\u001b[39m.\u001b[39mfind(\u001b[39m\"\u001b[39m\u001b[39mdiv\u001b[39m\u001b[39m\"\u001b[39m, {\u001b[39m\"\u001b[39m\u001b[39mclass\u001b[39m\u001b[39m\"\u001b[39m: \u001b[39m\"\u001b[39m\u001b[39msyn_section_b1\u001b[39m\u001b[39m\"\u001b[39m})\n\u001b[0;32m     22\u001b[0m \u001b[39m# Loop to fetch all the fund tickers and its's names which are contained within the href section of the URL\u001b[39;00m\n\u001b[1;32m---> 23\u001b[0m \u001b[39mfor\u001b[39;00m row \u001b[39min\u001b[39;00m table\u001b[39m.\u001b[39;49mfindAll(\u001b[39m'\u001b[39m\u001b[39ma\u001b[39m\u001b[39m'\u001b[39m):\n\u001b[0;32m     24\u001b[0m     \u001b[39m# If we carefully observe the URL, the ticker information starts at 73\u001b[39;00m\n\u001b[0;32m     25\u001b[0m     \u001b[39mif\u001b[39;00m (row[\u001b[39m'\u001b[39m\u001b[39mhref\u001b[39m\u001b[39m'\u001b[39m][\u001b[39m73\u001b[39m:]) \u001b[39m!=\u001b[39m \u001b[39m'\u001b[39m\u001b[39m'\u001b[39m:\n\u001b[0;32m     26\u001b[0m         Funds_family\u001b[39m.\u001b[39mloc[i] \u001b[39m=\u001b[39m [row\u001b[39m.\u001b[39mcontents[\u001b[39m0\u001b[39m], FFamily[\u001b[39m'\u001b[39m\u001b[39mFund_Family\u001b[39m\u001b[39m'\u001b[39m][index], row[\u001b[39m'\u001b[39m\u001b[39mhref\u001b[39m\u001b[39m'\u001b[39m][\u001b[39m73\u001b[39m:]]\n",
      "\u001b[1;31mAttributeError\u001b[0m: 'NoneType' object has no attribute 'findAll'"
     ]
    }
   ],
   "source": [
    "import pandas as pd\n",
    "import requests\n",
    "from bs4 import BeautifulSoup\n",
    "\n",
    "# Create the Funds Family DataFrame\n",
    "Funds_family = pd.DataFrame(columns=['Fund_Name', 'Fund_Family', 'Fund_Ticker'])\n",
    "i = 0\n",
    "\n",
    "for index in range(0, len(FFamily)):\n",
    "    # For each fund, fetch the MorningStar URL\n",
    "    contenturl = FFamily.MorningstarURL[index]\n",
    "    \n",
    "    req = requests.get(contenturl)\n",
    "    page = req.content\n",
    "\n",
    "    # Using Beautiful Soup to parse the HTML content\n",
    "    soup = BeautifulSoup(page, 'html.parser')\n",
    "\n",
    "    # Extract the information from the div which contains the class \"syn_section_b1\"\n",
    "    table = soup.find(\"div\", {\"class\": \"syn_section_b1\"})\n",
    "\n",
    "    # Loop to fetch all the fund tickers and its's names which are contained within the href section of the URL\n",
    "    for row in table.findAll('a'):\n",
    "        # If we carefully observe the URL, the ticker information starts at 73\n",
    "        if (row['href'][73:]) != '':\n",
    "            Funds_family.loc[i] = [row.contents[0], FFamily['Fund_Family'][index], row['href'][73:]]\n",
    "            i = i + 1\n"
   ]
  },
  {
   "cell_type": "code",
   "execution_count": null,
   "metadata": {},
   "outputs": [],
   "source": []
  },
  {
   "cell_type": "code",
   "execution_count": null,
   "metadata": {},
   "outputs": [],
   "source": []
  },
  {
   "cell_type": "code",
   "execution_count": null,
   "metadata": {},
   "outputs": [],
   "source": []
  }
 ],
 "metadata": {
  "kernelspec": {
   "display_name": "Python 3",
   "language": "python",
   "name": "python3"
  },
  "language_info": {
   "codemirror_mode": {
    "name": "ipython",
    "version": 3
   },
   "file_extension": ".py",
   "mimetype": "text/x-python",
   "name": "python",
   "nbconvert_exporter": "python",
   "pygments_lexer": "ipython3",
   "version": "3.11.0"
  },
  "orig_nbformat": 4
 },
 "nbformat": 4,
 "nbformat_minor": 2
}
